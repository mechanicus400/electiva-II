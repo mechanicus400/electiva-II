<!DOCTYPE html>
<html lang="es">
<head>
<meta charset="UFT-8">
<meta html-equiv="X-UA-Compatible" content="IE=edge"
<title>Elden Ring</title>
<meta name="viewport" content="width=device-width, initial-scale=1.0">
  body {
            font-family: Arial, sans-serif;
            background-color: #f4f4f4;
        }
        h1 {
            color: #333;
        }
        p {
            line-height: 1.6;
        }
    </style>
</head>
<body>
  <h1>Elden Ring</h1>
  <p>Las hojas caídas cuentan una historia.

     El gran Elden Ring quedó destrozado.

     En nuestra casa, al otro lado de la niebla, las Tierras Intermedias.

     Ahora, la Reina Marika la Eterna no se encuentra por ningún lado,

     y en la Noche de los Cuchillos Negros, Godwyn el Dorado fue el primero en perecer.

     Pronto, los descendientes de Marika, todos semidioses, reclamaron los fragmentos del Anillo de Elden.

     La loca mancha de su nueva fuerza desencadenó la Devastación.

     Una guerra de la que ningún señor surgió.

     Una guerra que conduce al abandono por la Voluntad Mayor.

     Levántense ahora, sinluz.

     Vosotros, muertos, que aún vivís.

     El llamado de la gracia perdida hace mucho tiempo nos habla a todos.

    Hoarah Loux, jefe de las tierras baldías.

    El siempre brillante Máscara Dorada.

    Fia, la compañera del lecho de muerte.

    El repugnante Devorador de Estiércol.

    Y Sir Gideon Ofnir, el Omnisciente.

    Y otro más. A quien la gracia volvería a bendecir.

    Un Sinluz sin renombre.

    Cruza la niebla, hacia las Tierras Intermedias.

    Levantense ante el Elden Ring.

    Y conviértete en el Señor Elden.

    body {
    font-family: 'Helvetica', sans-serif;
    background-color: #e9ecef;
    color: #495057;
    margin: 0;
    padding: 20px;
}

.personaje-container {
    max-width: 800px;
    margin: 20px auto;
    padding: 20px;
    background-color: #fff;
    border-radius: 8px;
    box-shadow: 0 4px 6px rgba(0, 0, 0, 0.1);
}

h1 {
    color: #007bff;
    text-align: center;
}

img {
    display: block;
    margin: 0 auto 20px;
    border-radius: 50%;
    width: 200px;
    height: 200px;
    object-fit: cover;
}

.dato {
    font-weight: bold;
}
    
    
    Bienvenido seas a la wiki de Elden Ring.</p>
<h2>Personajes</h2>
<ul>
   <li>Nombre:**Marika La Eterna</li>
   <li>Especie:**Diosa/Empirea</li>
   <li>Biografia:**La Reina Márika la Eterna es la divinidad que gobierna las Tierras Intermedias y la persona que actúa como el recipiente del Círculo de Elden. Sus descendientes poseen el estatus de semidioses y son los portadores de las Grandes Runas 
       Márika provenía de la Aldea del chamán, un área que se encuentra en el Reino de las Sombras, fuera de las Tierras Intermedias. El pueblo chamán era oprimido por los gobernantes de aquella tierra, los cornamentados, quienes mutilaban a los chamanes con látigos y los metían en tarros como parte de un riguroso ritual, 
       En algún momento, Marika dejó su hogar y llegó a la Puerta de la Divinidad, donde pudo ascender como diosa debido a que era una Empírea. Aquí, ella se convirtió en el recipiente del Círculo de Elden.[3] Como Empírea, recibió una sombra, su hermanastro Maliketh.Márika libró una guerra contra los cornamentados con un ejército liderado por su hijo Messmer. Con el tiempo, regresó a su aldea natal y lanzó el encantamiento Árbol Áureo pequeño para bañar su hogar con la luz curativa del oro, a pesar de que sabía que todos habían muerto hacía mucho tiempo. Marika nunca más regresó a casa, pero dejó a Messmer en el Reino de las Sombras para continuar con su genocidio de los cornamentados.
       Tierras Intermedias
       Márika se convirtió en la Reina de las Tierras Intermedias. Deseando un mundo libre de Muerte Escrita, eliminó la Runa de la Muerte del Círculo de Elden, e hizo que su sombra Maliketh la protegiera, estableciendo así la Orden Dorada.
       Márika tomó como consorte a Godfrey, quien se convirtió en el primer Señor del Círculo. Al principio todo estaba en oposición al Árbol Áureo, pero con Godfrey a la cabeza de sus ejércitos, Márika perseveró y el Árbol Áureo reinaría como la encarnación de la propia Orden Dorada.
       Se libró una de estas guerras contra los gigantes de fuego, que fueron derrotados cuando Márika mató a su dios caído. Incapaz de extinguir la llama de la perdición en la cima de las gélidas montañas del norte, una amenaza mayúscula para el Árbol Áureo, Márika maldijo al último de los gigantes para que la custodiara para siempre. Los monjes ígneos, que habían luchado del lado del Árbol Áureo durante la guerra contra los gigantes de fuego, también se quedaron atrás para vigilar la Llama, algunos de los cuales cayeron bajo el hechizo del fuego y comenzaron a adorar al Dios del Fuego.
       Con el Árbol Áureo como símbolo supremo, Márika y Godfrey gobernaron juntos y tuvieron al menos tres hijos: Godwyn el Dorado y los gemelos Morgott y Mohg. Ambos gemelos nacieron como Augurios malditos y fueron escondidos en las profundidades debajo de la capital. De todas formas, Godfrey, así como su descendencia y la de Márika, fueron registrados en la historia como los primeros semidioses, y por siempre serían conocidos como el "Linaje Dorado".
       Con su gobierno asegurado, Márika anunció su intención de buscar en las profundidades de la Orden Dorada, declarando que los días de creencia ciega eran cosa del pasado. Cuando cayó el último enemigo del señor Godfrey, el color de sus ojos se desvaneció. Márika lo desterró a él y a sus parientes de las Tierras Intermedias, robándoles su Gracia, creando así a los primeros Sinluz, todo con la esperanza de que se hicieran más fuertes librando guerras en tierras fuera de su dominio, para eventualmente regresar con su Guía de la Gracia renovada.
       Después de desterrar a Godfrey de las Tierras Intermedias, Márika tomó a Radagon como segundo esposo y Rey Consorte, convirtiéndolo en el segundo Señor del Círculo. Radagon ya tenía tres hijos con la Reina Rennala de la familia real cariana, y después de su unión con Márika, estos fueron aceptados como semidioses adoptivos.
       Márika y Radagon tuvieron dos hijos propios, los gemelos Malenia y Miquella, quienes, al igual que Márika y la hija de Radagon, Ranni, eran Empíreos, sucesores potenciales de Márika. Sin embargo, Radagon y Márika eran en verdad el mismo ser, de hecho, Radagon había sido descrito como la "otra mitad" de Márika. Así, debido a que los gemelos eran hijos de una misma deidad, sufrieron dolencias de nacimiento: Malenia albergaba la putrefacción roja en su interior y Miquella fue maldecido con la infancia eterna</li>
</ul>
</body>
git add index.html
git commit -m "Agrega index.html"
git push
</html>
